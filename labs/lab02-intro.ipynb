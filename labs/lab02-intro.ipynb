{
  "cells": [
    {
      "cell_type": "markdown",
      "metadata": {},
      "source": [
        "# Lab 2: Python and GitHub Bootcamp\n",
        "\n",
        "ENGS 199.20  \n",
        "2025-07-17\n",
        "\n",
        "## Overview\n",
        "\n",
        "Today we’re going to practice our lab GitHub workflow and learn/refresh\n",
        "Python code for the types of analyses we’ll see in future labs. There’s\n",
        "a lot of content in this lab, so I will host an extra hour session on\n",
        "Tuesday so that I’m available for questions. Today’s lab is not graded.\n",
        "\n",
        "Today’s objectives: 1. Become more comfortable using \\[numpy\\] for\n",
        "efficient array-based operations 2. Become more comfortable using\n",
        "\\[pandas\\] for structured data analysis 3. Create a reproducible\n",
        "analysis with GitHub 4. Get some practice using Python to address a\n",
        "*toy* decision analysis problem\n",
        "\n",
        "## Lab Workflow\n",
        "\n",
        "### Part 1: GitHub Repository Setup\n",
        "\n",
        "1.  Go to GitHub and create a new repository called “toy-flood-analysis”\n",
        "2.  Clone the repo locally (I recommend using ssh as discussed last lab)\n",
        "3.  Create the folder structure below toy-flood-analysis/ \\|—-data/\n",
        "    \\|—-notebooks/ \\|—-figures/ \\|—-docs/ \\|*README.md \\|*.gitignore"
      ],
      "id": "75d87337-e819-4a89-984e-7c17f822f41a"
    }
  ],
  "nbformat": 4,
  "nbformat_minor": 5,
  "metadata": {
    "kernelspec": {
      "name": "python3",
      "display_name": "Python 3 (ipykernel)",
      "language": "python",
      "path": "/Users/f006dwr/Library/Jupyter/kernels/python3"
    }
  }
}